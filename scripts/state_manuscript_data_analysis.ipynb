{
 "cells": [
  {
   "cell_type": "markdown",
   "id": "46a55481",
   "metadata": {},
   "source": [
    "# Set-up"
   ]
  },
  {
   "cell_type": "code",
   "execution_count": 1,
   "id": "508b2ac7-c3f9-4ddc-a2c4-bc1206290358",
   "metadata": {},
   "outputs": [
    {
     "name": "stderr",
     "output_type": "stream",
     "text": [
      "2024-12-20 20:43:33.760087: E external/local_xla/xla/stream_executor/cuda/cuda_fft.cc:477] Unable to register cuFFT factory: Attempting to register factory for plugin cuFFT when one has already been registered\n",
      "WARNING: All log messages before absl::InitializeLog() is called are written to STDERR\n",
      "E0000 00:00:1734727413.775198 2521782 cuda_dnn.cc:8310] Unable to register cuDNN factory: Attempting to register factory for plugin cuDNN when one has already been registered\n",
      "E0000 00:00:1734727413.780019 2521782 cuda_blas.cc:1418] Unable to register cuBLAS factory: Attempting to register factory for plugin cuBLAS when one has already been registered\n",
      "2024-12-20 20:43:33.799052: I tensorflow/core/platform/cpu_feature_guard.cc:210] This TensorFlow binary is optimized to use available CPU instructions in performance-critical operations.\n",
      "To enable the following instructions: AVX2 FMA, in other operations, rebuild TensorFlow with the appropriate compiler flags.\n"
     ]
    },
    {
     "name": "stdout",
     "output_type": "stream",
     "text": [
      "WARNING:tensorflow:From /home/xchen@okta-oci.eitm.org/projects/state_manuscript_analyses/venv/lib/python3.10/site-packages/tensorflow/python/compat/v2_compat.py:98: disable_resource_variables (from tensorflow.python.ops.resource_variables_toggle) is deprecated and will be removed in a future version.\n",
      "Instructions for updating:\n",
      "non-resource variables are not supported in the long term\n"
     ]
    }
   ],
   "source": [
    "import os\n",
    "os.chdir('..')\n",
    "import glob\n",
    "from cyvcf2 import VCF\n",
    "\n",
    "import scipy\n",
    "import numpy as np\n",
    "import pandas as pd\n",
    "import seaborn as sns\n",
    "import matplotlib.pyplot as plt\n",
    "import matplotlib.colors as cm\n",
    "from matplotlib.colors import ListedColormap\n",
    "\n",
    "from sklearn.decomposition import PCA\n",
    "from utils.utils import eid_to_patient_cohort, read_agg_snv\n",
    "from utils.utils import sbs_artifacts, derive_final_metrics\n",
    "from utils.aggregate_funcotator_utils import *\n",
    "from utils.utils import *\n",
    "\n",
    "from scripts.constants import flat_results_dir, sample_prep_table_path, subjects_table_path, mmc3_path\n",
    "\n",
    "%matplotlib inline\n",
    "sns.set(font_scale=1)\n",
    "sns.set_theme(rc={'figure.figsize':(11.7,8.27)})"
   ]
  },
  {
   "cell_type": "markdown",
   "id": "9a3fe8a1-bf2f-4a71-b130-7cd72f4a80ab",
   "metadata": {},
   "source": [
    "## Data & Figures Directories"
   ]
  },
  {
   "cell_type": "code",
   "execution_count": 2,
   "id": "cd8974a9",
   "metadata": {},
   "outputs": [],
   "source": [
    "pp_path = flat_results_dir\n",
    "unpublished_pp_path = '/data/scratch/xchen/' # NOTE FOR USER: data in this path is not released due to possible containination of PII germline variants.\n",
    "input_data_dirs = [\"fig\" + str(num) for num in range(1, 8)]\n",
    "_ = [os.makedirs('input_data/' + path, exist_ok=True) for path in input_data_dirs]\n",
    "_ = [os.makedirs('plots/' + path, exist_ok=True) for path in input_data_dirs]"
   ]
  },
  {
   "cell_type": "code",
   "execution_count": 3,
   "id": "520f8cde",
   "metadata": {},
   "outputs": [],
   "source": [
    "subjects = sample_prep_table_path\n",
    "manuscript_sample_prep_file = subjects_table_path"
   ]
  },
  {
   "cell_type": "markdown",
   "id": "50e73eb7-5be8-4bfb-9d70-2657343cca19",
   "metadata": {},
   "source": [
    "# Fig 1B: Signature recovery of contrived samples"
   ]
  },
  {
   "cell_type": "code",
   "execution_count": 4,
   "id": "b624e555-5b87-4b1d-9a98-1280a5764918",
   "metadata": {},
   "outputs": [],
   "source": [
    "contrived_path = pp_path + '/STATE_vcfs_f3_region_filtered/full_genome/'\n",
    "\n",
    "contrived100 = contrived_path + 'EIBS-002GA_19226_1_20240607_vs_HG002_11434_10_20240607.ann.filtered3.vcf'\n",
    "contrived1 = [\n",
    "    contrived_path + 'EIBS-002GB_19227_1_20240607_vs_HG002_11434_10_20240607.ann.filtered3.vcf', \n",
    "    contrived_path + 'EIBS-002GB_19227_2_20240701_vs_HG002_11434_13_20240701.ann.filtered3.vcf',\n",
    "    contrived_path + 'EIBS-002GB_19227_3_20240716_vs_HG002_11434_14_20240716_0.ann.filtered3.vcf',\n",
    "    contrived_path + 'EIBS-002GB_19227_4_20240722_vs_HG002_11434_15_20240722_0.ann.filtered3.vcf',\n",
    "]\n",
    "contrived5 = [\n",
    "    contrived_path + 'EIBS-002GC_19228_1_20240607_vs_HG002_11434_10_20240607.ann.filtered3.vcf',\n",
    "    contrived_path + 'EIBS-002GC_19228_2_20240701_vs_HG002_11434_13_20240701.ann.filtered3.vcf',\n",
    "    contrived_path + 'EIBS-002GC_19228_3_20240716_vs_HG002_11434_14_20240716.ann.filtered3.vcf',\n",
    "    contrived_path + 'EIBS-002GC_19228_4_20240722_vs_HG002_11434_15_20240722.ann.filtered3.vcf',\n",
    "]\n",
    "contrived10 = [\n",
    "    contrived_path + 'EIBS-002GD_19229_1_20240607_vs_HG002_11434_10_20240607.ann.filtered3.vcf',\n",
    "    contrived_path + 'EIBS-002GD_19229_2_20240701_vs_HG002_11434_13_20240701_0.ann.filtered3.vcf',\n",
    "    contrived_path + 'EIBS-002GD_19229_3_20240722_vs_HG002_11434_15_20240722.ann.filtered3.vcf',\n",
    "    contrived_path + 'EIBS-002GD_19229_4_20240716_vs_HG002_11434_14_20240716.ann.filtered3.vcf',\n",
    "]\n",
    "\n",
    "contrived_vcf_list = []\n",
    "for path1,path5,path10 in zip(contrived1,contrived5,contrived10):\n",
    "    vcf1 = read_vcf_to_pandas(path1, contig=None)\n",
    "    vcf1['BT474_percent'] = 1\n",
    "    contrived_vcf_list.append(vcf1)\n",
    "    vcf5 = read_vcf_to_pandas(path5, contig=None)\n",
    "    vcf5['BT474_percent'] = 5\n",
    "    contrived_vcf_list.append(vcf5)\n",
    "    vcf10 = read_vcf_to_pandas(path10, contig=None)\n",
    "    vcf10['BT474_percent'] = 10\n",
    "    contrived_vcf_list.append(vcf10)\n",
    "    \n",
    "contrived_vcf = pd.concat(contrived_vcf_list, axis=0)"
   ]
  },
  {
   "cell_type": "code",
   "execution_count": 5,
   "id": "8119bdba-d4cc-482f-9cdb-0b4d92862979",
   "metadata": {},
   "outputs": [],
   "source": [
    "mmc3 = pd.read_excel(mmc3_path, sheet_name='WGS Clones&Stoks Signatures', header=1)\n",
    "bt_mutsig = mmc3.loc[mmc3['Sample Name'] == 'BT-474']\n",
    "bt_mutsig_mapping = bt_mutsig.to_dict(orient='index')\n",
    "bt_mutsig_mapping = bt_mutsig_mapping[47]\n",
    "bt_mutsig_mapping.pop('Sample Name')\n",
    "bt_mutsig_mapping.pop('Cancer Type used in SigProfiler')\n",
    "bt_mutsig_mapping.pop('Accuracy')\n",
    "bt_mutsig_mapping.pop('ID')\n",
    "sbs_cols = [col for col in bt_mutsig.columns if col.startswith('SBS')]\n",
    "bt_mutsig_norm = bt_mutsig[sbs_cols].divide(bt_mutsig[sbs_cols].sum(axis=1), axis=0)\n",
    "bt_mutsig_norm_mapping = bt_mutsig_norm.to_dict(orient='index')\n",
    "bt_mutsig_norm_mapping = bt_mutsig_norm_mapping[47]"
   ]
  },
  {
   "cell_type": "code",
   "execution_count": null,
   "id": "3b3a8046-61ad-4200-8394-f8397730a4e4",
   "metadata": {},
   "outputs": [],
   "source": [
    "agg_path = os.path.join(pp_path, 'aggregate_data', 'aggregate_snv_patient_global_f3.csv')\n",
    "agg_global = derive_final_metrics_uncorrrected(pd.read_csv(agg_path))\n",
    "agg_global['EIBS_short'] = agg_global['EIBS'].str.split('_', n=1, expand=True)[0]"
   ]
  },
  {
   "cell_type": "code",
   "execution_count": 7,
   "id": "ff86008a-1b2b-439b-93d9-24b564f8ec5e",
   "metadata": {},
   "outputs": [
    {
     "name": "stderr",
     "output_type": "stream",
     "text": [
      "/tmp/ipykernel_2521782/3602057711.py:8: SettingWithCopyWarning: \n",
      "A value is trying to be set on a copy of a slice from a DataFrame.\n",
      "Try using .loc[row_indexer,col_indexer] = value instead\n",
      "\n",
      "See the caveats in the documentation: https://pandas.pydata.org/pandas-docs/stable/user_guide/indexing.html#returning-a-view-versus-a-copy\n",
      "  contrived['BT474_percent'] = [contrived_map[n] for n in contrived.EIBS_short]\n",
      "/tmp/ipykernel_2521782/3602057711.py:9: SettingWithCopyWarning: \n",
      "A value is trying to be set on a copy of a slice from a DataFrame.\n",
      "Try using .loc[row_indexer,col_indexer] = value instead\n",
      "\n",
      "See the caveats in the documentation: https://pandas.pydata.org/pandas-docs/stable/user_guide/indexing.html#returning-a-view-versus-a-copy\n",
      "  contrived['replicate'] = contrived.EIBS.str.rsplit('_', n=2, expand=True)[1]\n"
     ]
    }
   ],
   "source": [
    "contrived_map = {\n",
    "    'EIBS-002GA': 100,\n",
    "    'EIBS-002GB': 1,\n",
    "    'EIBS-002GC': 5,\n",
    "    'EIBS-002GD': 10,\n",
    "}\n",
    "contrived = agg_global.loc[agg_global.EIBS_short.isin(contrived_map.keys())]\n",
    "contrived['BT474_percent'] = [contrived_map[n] for n in contrived.EIBS_short]\n",
    "contrived['replicate'] = contrived.EIBS.str.rsplit('_', n=2, expand=True)[1]"
   ]
  },
  {
   "cell_type": "code",
   "execution_count": 8,
   "id": "062046f4-cce1-47f5-b063-4978662b47e5",
   "metadata": {},
   "outputs": [],
   "source": [
    "contrived.index = contrived.EIBS_short\n",
    "cosmic = contrived.filter(regex='^SBS.*_ratio$')\n",
    "cosmic.columns = cosmic.columns.str.rstrip('_ratio')  # strip suffix at the right end only.\n",
    "cosmic = cosmic[list(set(cosmic.columns) & set(bt_mutsig_mapping.keys()))]\n",
    "cosmic['BT474_percent'] = [contrived_map[n] for n in cosmic.index]\n",
    "cosmic_long = cosmic.melt(id_vars='BT474_percent', var_name='SBS', value_name='Activity_ratio')"
   ]
  },
  {
   "cell_type": "code",
   "execution_count": 9,
   "id": "9f150ec2-5b02-4af6-b86c-4f5229230a45",
   "metadata": {},
   "outputs": [],
   "source": [
    "bt_mutsig_df = pd.DataFrame.from_dict(bt_mutsig_norm_mapping, orient='index', columns=['Activity_ratio']).reset_index()\n",
    "bt_mutsig_df = bt_mutsig_df.rename(columns={'index': 'SBS'}) \n",
    "bt_mutsig_df = bt_mutsig_df.loc[bt_mutsig_df.SBS.isin(set(cosmic.columns) & set(bt_mutsig_mapping.keys()))]\n",
    "bt_mutsig_df['BT474_percent'] = -1\n",
    "cosmic_long = pd.concat([cosmic_long, bt_mutsig_df], axis=0)\n",
    "cosmic_long = cosmic_long.sort_values('SBS')"
   ]
  },
  {
   "cell_type": "markdown",
   "id": "f5b2aec8-0643-495d-9245-c7acbebbff7f",
   "metadata": {},
   "source": [
    "## Save csv for plotting"
   ]
  },
  {
   "cell_type": "code",
   "execution_count": 10,
   "id": "f0608f2d-c0c7-433d-a48a-358e5f0fe215",
   "metadata": {},
   "outputs": [],
   "source": [
    "os.makedirs('input_data/fig1/recovery_figs', exist_ok=True)\n",
    "os.makedirs('input_data/fig1/recovery_pct', exist_ok=True)\n",
    "cosmic_long.to_csv('input_data/fig1/recovery_figs/sig_recovery.csv')\n",
    "contrived.to_csv('input_data/fig1/recovery_figs/contrived_snv_metrics.csv')"
   ]
  },
  {
   "cell_type": "markdown",
   "id": "1bb953cb-dd3c-4798-abc1-40be565a19bf",
   "metadata": {},
   "source": [
    "## Example plot"
   ]
  },
  {
   "cell_type": "code",
   "execution_count": 11,
   "id": "985ccaf8-edd1-48b2-93dc-ed980c973fd1",
   "metadata": {},
   "outputs": [
    {
     "data": {
      "image/png": "[encoded data removed]",
      "text/plain": [
       "<Figure size 1500x800 with 1 Axes>"
      ]
     },
     "metadata": {},
     "output_type": "display_data"
    }
   ],
   "source": [
    "sns.set()\n",
    "fig, ax = plt.subplots(figsize=(15,8))\n",
    "# \n",
    "for i, row in enumerate(cosmic_long.loc[cosmic_long.BT474_percent == -1].iterrows()):\n",
    "    _, SBS, activity = row[1]\n",
    "    ax.axhline(y = activity,    # Line on y = 0.2\n",
    "               xmin = 0.055*(i) + 0.01, # From the left\n",
    "               xmax = 0.055*(i) + 0.055,\n",
    "               color='red',\n",
    "               zorder=10,\n",
    "              )\n",
    "sns.stripplot(cosmic_long.loc[cosmic_long.BT474_percent > -1], x='SBS', y='Activity_ratio', hue='BT474_percent', alpha=0.7, ax=ax, palette='crest')\n",
    "ax.xaxis.grid(True) # Show the vertical gridlines\n",
    "# ax.add_artist(seaborn_legend)\n",
    "_ = plt.xticks(rotation=90)"
   ]
  },
  {
   "cell_type": "markdown",
   "id": "c0c81c11-cb02-4bc0-bec6-984078ccd021",
   "metadata": {},
   "source": [
    "# Fig 2: SNV Frequency Histogram Before Vs After Filtering"
   ]
  },
  {
   "cell_type": "code",
   "execution_count": null,
   "id": "c3db38c5-6a37-4c8c-818a-064be7c00e71",
   "metadata": {},
   "outputs": [],
   "source": [
    "def read_vcf_to_pandas(filepath, contig=None):\n",
    "    vcf_dict = defaultdict(list)\n",
    "    vcf = VCF(filepath)\n",
    "    if contig is not None:\n",
    "        vcf = vcf(contig)\n",
    "    for v in vcf:\n",
    "        update_vcf_dict(vcf_dict, v)\n",
    "    return pd.DataFrame(vcf_dict)\n",
    "\n",
    "failed_vcf_list = []\n",
    "## NOTE FOR USER: cannot release data in STATE_vcfs_failed_f3_downsample\n",
    "for input_vcf_path in glob.glob(os.path.join(unpublished_pp_path, 'STATE_vcfs_failed_f3_downsample', '*.vcf.gz')):\n",
    "    vcf = read_vcf_to_pandas(input_vcf_path, contig=None)\n",
    "    failed_vcf_list.append(vcf)\n",
    "failed_vcf = pd.concat(failed_vcf_list, axis=0)\n",
    "\n",
    "vcf_list = []\n",
    "for input_vcf_path in glob.glob(os.path.join(pp_path, 'STATE_vcfs_f3_region_filtered/full_genome',  '*.vcf')):\n",
    "    vcf = read_vcf_to_pandas(input_vcf_path, contig=None)\n",
    "    vcf_list.append(vcf)\n",
    "\n",
    "\n",
    "prefilter_vcf_list = []\n",
    "## NOTE FOR USER: cannot release data in STATE_vcfs_prefilter_downsample\n",
    "for input_vcf_path in glob.glob(os.path.join(unpublished_pp_path, 'STATE_vcfs_prefilter_downsample', '*.vcf.gz')):\n",
    "    vcf = read_vcf_to_pandas(input_vcf_path, contig=None)\n",
    "    prefilter_vcf_list.append(vcf)\n",
    "\n",
    "prefilter_vcf = pd.concat(prefilter_vcf_list, axis=0)\n",
    "passed_vcf = pd.concat(vcf_list, axis=0)\n",
    "failed_vcf['set'] = 'failed filter subsampled' \n",
    "passed_vcf['set'] = 'passed filter'\n",
    "prefilter_vcf['set'] = 'pre filter subsampled'"
   ]
  },
  {
   "cell_type": "markdown",
   "id": "a4aa11f5-1e3a-469e-aaff-215a20b1337d",
   "metadata": {},
   "source": [
    "## Save csv for plotting"
   ]
  },
  {
   "cell_type": "code",
   "execution_count": null,
   "id": "798e77bf-0f1f-4b5e-b2cf-940bf76d9426",
   "metadata": {},
   "outputs": [],
   "source": [
    "filter_vcf = pd.concat([failed_vcf, passed_vcf], axis=0)\n",
    "failed_vcf_subsample = failed_vcf.sample(n=int(passed_vcf.shape[0]*2), random_state=42)\n",
    "prefilter_vcf_subsample = prefilter_vcf.sample(n=int(passed_vcf.shape[0]*2), random_state=42)\n",
    "filter_vcf_subsample = pd.concat([passed_vcf, prefilter_vcf_subsample], axis=0)\n",
    "filter_vcf_subsample.to_csv('./input_data/fig2/snv_freqs.csv')"
   ]
  },
  {
   "cell_type": "markdown",
   "id": "19198250-afa7-4e92-93d6-d8fe21d22bbb",
   "metadata": {},
   "source": [
    "### Example Plots"
   ]
  },
  {
   "cell_type": "code",
   "execution_count": null,
   "id": "87ec6678-1fbc-4136-9297-7ec7a5f6d7bb",
   "metadata": {},
   "outputs": [],
   "source": [
    "sns.set_theme()\n",
    "_, axes = plt.subplots(2, 1, sharex=True, figsize=(15, 10))\n",
    "sns.kdeplot(passed_vcf, x='AF', ax=axes[1], fill=True)\n",
    "axes[1].set_ylabel('Passed Filter Variant Density')\n",
    "sns.kdeplot(failed_vcf_subsample, x='AF', ax=axes[0], fill=True)\n",
    "axes[0].set_ylabel('Failed Filter Variant Density')\n",
    "plt.suptitle('Variant Allele Frequency Distributions')\n",
    "plt.tight_layout()"
   ]
  },
  {
   "attachments": {},
   "cell_type": "markdown",
   "id": "fc04d3fe-fd81-4def-8ac3-36ebd82d7bc9",
   "metadata": {},
   "source": [
    "# Fig 3: Tensorsignatures of subjects' high confidence sSNVs compared to HG002 false positives."
   ]
  },
  {
   "cell_type": "code",
   "execution_count": null,
   "id": "0fad3b80",
   "metadata": {},
   "outputs": [],
   "source": [
    "aggregate_snv_global_f3_adj_path = os.path.join(pp_path, \"aggregate_data\", \"global_batch_adj_f3.csv\")\n",
    "agg_snv_global = read_agg_snv(aggregate_snv_global_f3_adj_path, subjects, manuscript_sample_prep_file)\n",
    "agg_snv_global = derive_final_metrics(agg_snv_global, error_model=False)"
   ]
  },
  {
   "cell_type": "code",
   "execution_count": null,
   "id": "f43a43cc-573d-46d8-ac30-d5e33aced71f",
   "metadata": {},
   "outputs": [],
   "source": [
    "agg_snv_global.index = agg_snv_global.EIBS\n",
    "mutsig_cols = [\n",
    "    col for col in agg_snv_global if col.endswith('adj3') and \\\n",
    "    col.startswith('mutsig')\n",
    "]\n",
    "subject_mutsig = agg_snv_global[mutsig_cols]\n",
    "subject_mutsig.columns = subject_mutsig.columns.str.replace('_adj3', '')"
   ]
  },
  {
   "cell_type": "code",
   "execution_count": null,
   "id": "ef980bc6-344b-4d51-9c49-9af6b9e91f13",
   "metadata": {},
   "outputs": [],
   "source": [
    "FP_VCF_BASE_DIR = os.path.join(pp_path, 'STATE_HG002_vcfs/fp')\n",
    "mutsig_fp_path_prefix = os.path.join(pp_path, 'tensorsignatures_data', f'refit_hg002_fp')\n",
    "fp_mutsig = mutsig_global_to_df(mutsig_fp_path_prefix, FP_VCF_BASE_DIR)"
   ]
  },
  {
   "cell_type": "code",
   "execution_count": null,
   "id": "6f565c6c-f853-43cd-b690-a97324a2ba91",
   "metadata": {},
   "outputs": [],
   "source": [
    "subject_fp_mutsig = pd.concat([subject_mutsig, fp_mutsig], axis=0)\n",
    "subject_fp_mutsig = subject_fp_mutsig.drop(columns = 'EIBS')\n",
    "subject_fp_mutsig['names'] = subject_fp_mutsig.index\n",
    "subject_fp_mutsig.index = ['False Positive' if s.startswith('HG') else 'Subject' for s in  subject_fp_mutsig.index]"
   ]
  },
  {
   "cell_type": "code",
   "execution_count": null,
   "id": "d965c494-ee08-4445-9b03-88d35e3ccda3",
   "metadata": {},
   "outputs": [],
   "source": [
    "norm_cols = [col for col in subject_mutsig if 'ratio' in col] + ['names']\n",
    "count_cols = [col for col in subject_mutsig if 'count' in col]\n",
    "subject_fp_exposure_norm = subject_fp_mutsig[norm_cols]\n",
    "subject_exposure_df_norm_subsample = subject_fp_exposure_norm.sample(100, replace=False, random_state=42).sort_index() \n",
    "subject_fp_exposure_count = subject_fp_mutsig[count_cols]"
   ]
  },
  {
   "cell_type": "markdown",
   "id": "e52fa399-fdf2-4d8e-8dd3-c40b03825b22",
   "metadata": {},
   "source": [
    "## Save csvs for plotting"
   ]
  },
  {
   "cell_type": "code",
   "execution_count": null,
   "id": "b114b43f-fac9-42b8-83f0-2292203e076f",
   "metadata": {},
   "outputs": [],
   "source": [
    "subject_fp_exposure_norm.to_csv('./input_data/fig3/subject_fp_exposure_norm.csv')\n",
    "subject_exposure_df_norm_subsample.to_csv('./input_data/fig3/subject_exposure_df_norm_subsample.csv')\n",
    "subject_fp_exposure_count.to_csv('./input_data/fig3/subject_fp_exposure_count.csv')"
   ]
  },
  {
   "cell_type": "markdown",
   "id": "5742dc3e",
   "metadata": {},
   "source": [
    "## Supplemental Figure: Data Processing for SBS Mutsigs"
   ]
  },
  {
   "cell_type": "code",
   "execution_count": null,
   "id": "672cab20",
   "metadata": {},
   "outputs": [],
   "source": [
    "def drop_low_var(df):\n",
    "\tnumeric_cols = df.select_dtypes(include=['number'])\n",
    "\tstd_devs = numeric_cols.std(numeric_only=True)\n",
    "\tdropped_cols = std_devs[(std_devs == 0)].index.tolist()\n",
    "\treturn df.drop(columns = dropped_cols)\n",
    "\n",
    "def process_data(data_dir, output_dir, data_name):\n",
    "\t# output signatures data\n",
    "\tsignatures = pd.read_csv(data_dir + '/Assignment_Solution/Activities/Decomposed_MutationType_Probabilities.txt', sep = '\\t')\n",
    "\tsignatures = drop_low_var(signatures) # drop low variance samples\n",
    "\t\n",
    "\t# process assignment_solution_signatures\n",
    "\tsignatures_sum = signatures.drop(columns=\"MutationType\").groupby(\"Sample Names\").sum()\n",
    "\tsignatures_sum = signatures_sum[~signatures_sum.index.str.startswith('EIBS-002G')] # drop contrived samples\n",
    "\tsignatures_sum[\"Data Type\"] = len(signatures_sum) * [data_name]\n",
    "\tsignatures_sum = signatures_sum.reset_index().set_index(\"Data Type\")\n",
    "\n",
    "\tsignatures_sum.to_csv(output_dir + data_name + \".csv\")"
   ]
  },
  {
   "cell_type": "code",
   "execution_count": null,
   "id": "692ce6c0",
   "metadata": {},
   "outputs": [],
   "source": [
    "patient_vcfs = os.path.join(pp_path, 'cosmics_sig_data', \"mut_sig_f3\")\n",
    "hg002_vcfs = os.path.join(pp_path, 'cosmics_sig_data', \"mut_sig_hg002_fp\")\n",
    "\n",
    "## NOTE TO USER: cant publish unfiltered vcfs so this wont work\n",
    "failed_vcfs = os.path.join(unpublished_pp_path, 'cosmics_sig_data', \"mut_sig_failedfilter_f3\")"
   ]
  },
  {
   "cell_type": "code",
   "execution_count": null,
   "id": "fceb8950",
   "metadata": {},
   "outputs": [],
   "source": [
    "process_data(data_dir= patient_vcfs, output_dir='./input_data/fig3/', data_name='SBS_post_filtering')\n",
    "process_data(data_dir= hg002_vcfs, output_dir='./input_data/fig3/', data_name='SBS_false_positives')\n",
    "process_data(data_dir= failed_vcfs, output_dir='./input_data/fig3/', data_name='SBS_pre_filtering')"
   ]
  },
  {
   "cell_type": "markdown",
   "id": "ab5d783b-3a53-4e35-ae30-6593f67b815d",
   "metadata": {},
   "source": [
    "### Example plots"
   ]
  },
  {
   "cell_type": "code",
   "execution_count": null,
   "id": "7ad1d90c-3184-4562-9d6e-ec3c831a7d98",
   "metadata": {},
   "outputs": [],
   "source": [
    "colors_dark = [cm.to_hex(plt.cm.tab20(i)) for i in range(0, 20, 2)]\n",
    "colors_light = [cm.to_hex(plt.cm.tab20(i)) for i in range(1, 21, 2)]\n",
    "tab_reordered = colors_dark + colors_light\n",
    "cmp = ListedColormap(tab_reordered)\n",
    "\n",
    "subject_exposure_df_norm_subsample.plot.bar(stacked=True, fontsize=12, figsize=(20,10), title='SNV Ratios by Tensor Mutational Signature', cmap=cmp).legend(loc='center left',bbox_to_anchor=(1.0, 0.5), reverse=True)\n",
    "# plt.xticks([])\n",
    "plt.ylim((0, 1))\n",
    "plt.xlabel('Samples', fontsize=14)\n",
    "plt.ylabel('Ratio', fontsize=14)"
   ]
  },
  {
   "cell_type": "code",
   "execution_count": null,
   "id": "632670db-fb3b-43ff-a2a3-031ec7ef9dc8",
   "metadata": {},
   "outputs": [],
   "source": [
    "subject_fp_exposure_norm = subject_fp_exposure_norm.drop(columns = 'names')\n",
    "lut = dict(zip(subject_fp_exposure_norm.index.unique(), \"rbg\"))\n",
    "row_colors = subject_fp_exposure_norm.index.map(lut)\n",
    "g = sns.clustermap(\n",
    "    subject_fp_exposure_norm,\n",
    "    figsize=(7, 7),\n",
    "    col_cluster=False,\n",
    "    row_colors=row_colors,\n",
    "    cmap=\"mako\", standard_scale=1\n",
    ")\n",
    "for label in subject_fp_exposure_norm.index.unique():\n",
    "    g.ax_col_dendrogram.bar(0, 0, color=lut[label], label=label, linewidth=0)\n",
    "g.ax_col_dendrogram.legend(loc=\"center\", ncol=6)\n",
    "plt.suptitle('Clustering Samples by Tensor Mutational Signatures')"
   ]
  },
  {
   "cell_type": "markdown",
   "id": "83c92883",
   "metadata": {},
   "source": [
    "# Figure 4: Allele Frequency by Variant Classification"
   ]
  },
  {
   "cell_type": "code",
   "execution_count": null,
   "id": "8ef0c02c",
   "metadata": {},
   "outputs": [],
   "source": [
    "vcf_list = []\n",
    "\n",
    "for input_vcf_path in glob.glob(os.path.join(pp_path, 'STATE_vcfs_f3_region_filtered_funcotated/full_genome', '*.vcf')):\n",
    "\n",
    "    eibs = input_vcf_path.split('/')[-1].split('_vs_')[0]\n",
    "    vcf = read_vcf_to_pandas(input_vcf_path, contig=None)\n",
    "    func_vcf = get_funcotator_data_for_vcf(input_vcf_path)['Gencode']\n",
    "    func_vcf['34_start'] = func_vcf['34_start'].astype(int)\n",
    "    vcf = func_vcf.merge(vcf, left_on=['34_chromosome', '34_start'], right_on=['CHROM', 'POS'])\n",
    "    vcf['EIBS'] = eibs\n",
    "    vcf_list.append(vcf)\n",
    "\n",
    "func_af_vcf = pd.concat(vcf_list, axis=0)\n",
    "func_af_vcf = func_af_vcf.loc[~func_af_vcf.EIBS.str.startswith('EIBS-002G')]\n",
    "func_af_vcf_filtered = func_af_vcf.loc[(func_af_vcf.DP > 20) & (func_af_vcf.CHROM != 'chrX') & (func_af_vcf.CHROM != 'chrY')]\n",
    "func_af_vcf_filtered.index = func_af_vcf_filtered.EIBS\n",
    "draw_mapping = get_draw_mapping(subjects, manuscript_sample_prep_file)\n",
    "func_af_vcf_filtered = eid_to_patient_cohort(func_af_vcf_filtered, draw_mapping).reset_index()"
   ]
  },
  {
   "cell_type": "code",
   "execution_count": null,
   "id": "63508e0f",
   "metadata": {},
   "outputs": [],
   "source": [
    "af_per_func_per_eibs = func_af_vcf_filtered.groupby(['draw_id', 'cohort', '34_variantClassification']).agg({'AF': ['mean', 'median']}).reset_index()\n",
    "af_per_func_per_eibs.to_csv('./input_data/fig4/fig4.csv')"
   ]
  },
  {
   "cell_type": "markdown",
   "id": "f8753245-ed24-4928-b119-f4532f569dc5",
   "metadata": {},
   "source": [
    "### Example plot"
   ]
  },
  {
   "cell_type": "code",
   "execution_count": null,
   "id": "d07eca0c",
   "metadata": {},
   "outputs": [],
   "source": [
    "varclasses = ['SILENT', 'IGR', 'MISSENSE', 'INTRON', 'RNA']\n",
    "af_per_func_per_eibs_select = af_per_func_per_eibs.loc[af_per_func_per_eibs['34_variantClassification'].isin(varclasses)]\n",
    "sns.boxplot(data=af_per_func_per_eibs_select, x=('AF', 'median'), y='34_variantClassification',\n",
    "           order = varclasses, color='gray')"
   ]
  },
  {
   "cell_type": "markdown",
   "id": "4c5ffeb2",
   "metadata": {},
   "source": [
    "# Fig 5: TMB Plot"
   ]
  },
  {
   "cell_type": "code",
   "execution_count": null,
   "id": "dc7e1c08",
   "metadata": {},
   "outputs": [],
   "source": [
    "QC_adj_samples = pd.read_csv(aggregate_snv_global_f3_adj_path, sep = ',')\n",
    "activities = pd.read_csv(os.path.join(pp_path, 'cosmics_sig_data', 'mut_sig_f3/Assignment_Solution/Activities/Assignment_Solution_Activities.txt'), sep = '\\t')\n",
    "activities = drop_low_var(activities).set_index('Samples')\n",
    "activities['EIBS'] = [sample[:sample.index('_vs_')] for sample in activities.index]\n",
    "activities = activities[activities['EIBS'].isin(QC_adj_samples['EIBS'])].drop(columns = ['EIBS'])\n",
    "\n",
    "# pivot longer activities into inputDF\n",
    "inputDF = pd.melt(activities.reset_index(), id_vars=\"Samples\")[[\"variable\", \"value\"]]\n",
    "\n",
    "# code pulled and adapted from AlexandrovLab/TMB_plotter repo\n",
    "scale = 2800 # genome (if exome, then 55)\n",
    "cutoff = 0\n",
    "\n",
    "inputDF.columns = ['Types', 'Mut_burden'] # column labels\n",
    "outputDF = inputDF\n",
    "outputDF['Mut_burden'] = outputDF.apply(lambda row: row.Mut_burden/scale, axis = 1)\n",
    "\n",
    "inputDF = inputDF[inputDF['Mut_burden'] > cutoff] # only pick mutsigs after filtering with cutoff\n",
    "inputDF['Mut_burden'] = inputDF.apply(lambda row: row.Mut_burden, axis = 1)\n",
    "groups = inputDF.groupby([\"Types\"]) # group by type\n",
    "\n",
    "# redbar visualizes median\n",
    "redbars = groups.median()[\"Mut_burden\"].sort_values(ascending=True)\n",
    "names = groups.median()[\"Mut_burden\"].sort_values(ascending=True).index\n",
    "counts = groups.count()[\"Mut_burden\"][names]\n",
    "ngroups = groups.ngroups\n",
    "\n",
    "#second row of bottom label\n",
    "input_counts = outputDF.groupby([\"Types\"]).count()[\"Mut_burden\"][names]\n",
    "data_df = pd.DataFrame(dict(redbars = redbars, names = names, counts = counts, input_counts = input_counts))\n",
    "\n",
    "data_df.to_csv(\"input_data/fig5/data_for_tmb.csv\")\n",
    "outputDF.to_csv(\"input_data/fig5/activities.csv\")"
   ]
  },
  {
   "cell_type": "markdown",
   "id": "21a42b75-572c-48dc-b25a-3ccc210db1e8",
   "metadata": {},
   "source": [
    "# Fig 6 + 7: Histogram of slopes from individual models"
   ]
  },
  {
   "cell_type": "code",
   "execution_count": null,
   "id": "4e8c12c1-b3a6-4403-8e03-93c9baf94f3f",
   "metadata": {},
   "outputs": [],
   "source": [
    "agg_snv_global.fillna(0, inplace=True)\n",
    "other_adj3_count_cols = [col for col in agg_snv_global.columns \\\n",
    "                         if 'count' in col \\\n",
    "                         and col.endswith('adj3') \\\n",
    "                         and 'mutsig' not in col \\\n",
    "                         and not col.startswith('SBS')\\\n",
    "                         and not 'distance' in col \\\n",
    "                         and not 'cgc' in col \\\n",
    "                         and not 'uniprot' in col \\\n",
    "                         and 'snv_count' not in col\\\n",
    "                        ]\n",
    "other_adj3_ratio_cols = [col for col in agg_snv_global.columns \\\n",
    "                         if 'ratio' in col \\\n",
    "                         and col.endswith('adj3') \\\n",
    "                         and 'mutsig' not in col \\\n",
    "                         and not col.startswith('SBS')\\\n",
    "                         and not 'distance' in col \\\n",
    "                         and not 'cgc' in col \\\n",
    "                         and not 'uniprot' in col \\\n",
    "                         and 'snv_ratio' not in col \\\n",
    "                        ]\n",
    "sbs_cols = [col for col in agg_snv_global.columns if col.startswith('SBS') and 'count' in col and col.endswith('adj3') and col.split('_')[0] not in sbs_artifacts]\n",
    "sbs_ratio_cols = [col for col in agg_snv_global.columns if col.startswith('SBS') and 'ratio' in col and col.endswith('adj3') and col.split('_')[0] not in sbs_artifacts]\n",
    "mutsig_cols = [col for col in agg_snv_global.columns if col.startswith('mutsig') and col.endswith('adj3') and 'count' in col]\n",
    "mutsig_ratio_cols = [col for col in agg_snv_global.columns if col.startswith('mutsig') and col.endswith('adj3') and 'ratio' in col]\n",
    "score_cols = [col for col in agg_snv_global.columns if ('score' in col or 'pathogenicity' in col) and 'count' not in col and 'ratio' not in col]"
   ]
  },
  {
   "cell_type": "code",
   "execution_count": null,
   "id": "97e79714-ab6a-4495-b78b-2ae4fbe3853c",
   "metadata": {},
   "outputs": [],
   "source": [
    "meta_cols = ['draw_id', 'draw_times',  'draw_month', 'draw_age', 'cohort', 'age_high']\n",
    "agg_snv_global['age_high'] = agg_snv_global.draw_age >= 65\n",
    "sbs =  agg_snv_global[meta_cols + sbs_cols]\n",
    "sbs_mean = sbs.groupby('draw_id').agg({col: 'mean' for col in sbs_cols})\n",
    "sbs_mean = sbs_mean.loc[:, sbs_mean.sum() > 0]\n",
    "nonzero_cols = agg_snv_global.loc[:, (agg_snv_global != int(agg_snv_global.shape[0] * 0.05)).all()].columns.tolist()"
   ]
  },
  {
   "cell_type": "code",
   "execution_count": null,
   "id": "cb27986f-f0f0-4caf-8b74-69bfbb3d750b",
   "metadata": {},
   "outputs": [],
   "source": [
    "cols_of_interest = sbs_cols + sbs_ratio_cols + other_adj3_ratio_cols + score_cols\n",
    "nonzero_cols_of_interest = list(set(cols_of_interest).intersection(set(nonzero_cols)))\n",
    "dynamic_df = calculate_slopes(agg_snv_global, nonzero_cols_of_interest, meta_cols)"
   ]
  },
  {
   "cell_type": "code",
   "execution_count": null,
   "id": "9c1cf650-84dc-458e-9cb3-61af8f22164b",
   "metadata": {},
   "outputs": [],
   "source": [
    "slope_cols = [col for col in dynamic_df if col.endswith('slope')]\n",
    "dynamic_meta_cols = ['draw_id', 'draw_age', 'cohort', 'age_high']\n",
    "value_cols = [col for col in dynamic_df if not col.endswith('slope') and not col.endswith('intercept') and col not in meta_cols]\n",
    "dynamic_df_grp = dynamic_df.groupby('draw_id').agg({col: 'mean' for col in slope_cols}).reset_index()\n",
    "dynamic_df_grp = dynamic_df_grp.merge(dynamic_df[dynamic_meta_cols].drop_duplicates(), how='inner', on='draw_id') # fuck it's this merge that caused the bug it's fixed now but FUCK\n",
    "dynamic_df_grp_melt = dynamic_df_grp.melt(id_vars = dynamic_meta_cols, value_name='slope')\n",
    "dynamic_df_value_grp = dynamic_df.groupby('draw_id').agg({col: 'mean' for col in value_cols}).reset_index()\n",
    "dynamic_df_value_grp = dynamic_df_value_grp.merge(dynamic_df[dynamic_meta_cols], how='inner', on='draw_id')\n",
    "dynamic_df_value_grp_melt = dynamic_df_value_grp.melt(id_vars = dynamic_meta_cols, value_name='intercept')\n",
    "dynamic_df_grp_melt['label'] = dynamic_df_grp_melt.variable.str.replace('_slope', '')\n",
    "dynamic_df_grp_melt['label'] = dynamic_df_grp_melt.label.str.replace('_adj3', '')\n",
    "dynamic_df_value_grp_melt['label'] = dynamic_df_value_grp_melt.variable.str.replace('_adj3', '')\n",
    "dynamic_df_value_grp_melt['label'] = dynamic_df_value_grp_melt.variable.str.replace('_slope', '')"
   ]
  },
  {
   "cell_type": "code",
   "execution_count": null,
   "id": "e808faa2-d0b2-4ddd-8a8e-7c87735b1644",
   "metadata": {},
   "outputs": [],
   "source": [
    "dynamic_df_grp_melt['intercept'] = dynamic_df_value_grp_melt.intercept\n",
    "dynamic_df_grp_melt = dynamic_df_grp_melt[['draw_id', 'draw_age', 'cohort', 'age_high', 'variable', 'label', 'slope', 'intercept']]\n",
    "dynamic_cohort = agg_snv_global.loc[agg_snv_global.draw_id.isin(dynamic_df.draw_id)]"
   ]
  },
  {
   "cell_type": "markdown",
   "id": "8df9a6c6-885c-487d-a38e-7c246c72efdd",
   "metadata": {},
   "source": [
    "## Save csv for plotting"
   ]
  },
  {
   "cell_type": "code",
   "execution_count": null,
   "id": "4f5eb853-fb56-414a-bbcb-3715894a1c94",
   "metadata": {},
   "outputs": [],
   "source": [
    "agg_snv_global.to_csv('./input_data/fig6/joined_snv_clinical.csv')\n",
    "dynamic_df_grp_melt.to_csv('./input_data/fig7/slopes_intercepts.csv')\n",
    "dynamic_cohort.to_csv('./input_data/fig7/dynamic_cohort.csv')\n",
    "dynamic_df.to_csv('./input_data/fig7/dynamic_slopes_intercepts_wide.csv')"
   ]
  },
  {
   "cell_type": "markdown",
   "id": "69c90421-095a-4a98-816e-2ff9302abbf1",
   "metadata": {},
   "source": [
    "## Figure out which metrics to plot"
   ]
  },
  {
   "cell_type": "code",
   "execution_count": null,
   "id": "ba422543-5fef-4f76-bf0f-f57d4b671eec",
   "metadata": {},
   "outputs": [],
   "source": [
    "tstat, pval = scipy.stats.ttest_1samp(dynamic_df_grp[slope_cols], 0, axis=0)\n",
    "slope_pvals = pd.DataFrame(list(zip(slope_cols, pval, tstat)), columns=['metric', 'pval', 'tstat'])\n",
    "slope_pvals =slope_pvals.set_index('metric') \n",
    "slope_pvals['mean_slope'] = dynamic_df_grp[slope_cols].mean()\n",
    "slope_pvals.loc[slope_pvals.pval < 0.05].sort_index()"
   ]
  },
  {
   "cell_type": "markdown",
   "id": "d03bbf8c-6fad-48d0-8908-3f3d524e8dd6",
   "metadata": {},
   "source": [
    "## Example plots"
   ]
  },
  {
   "cell_type": "code",
   "execution_count": null,
   "id": "86101763-e3cc-4aa3-97f4-6a6402a9f28a",
   "metadata": {},
   "outputs": [],
   "source": [
    "from decimal import Decimal\n",
    "\n",
    "def abline(slope, intercept, alpha, color, linewidth, xlim=[0, 8]):\n",
    "    \"\"\"Plot a line from slope and intercept\"\"\"\n",
    "    axes = plt.gca()\n",
    "    x_vals = np.array(xlim) #axes.get_xlim())\n",
    "    y_vals = intercept + slope * x_vals\n",
    "    plt.plot(x_vals, y_vals, '-', alpha=alpha, color=color, linewidth=linewidth)\n",
    "\n",
    "def plot_individual_slope_pooled(col,  y_max=None, q_max=None):\n",
    "    slope = f'{col}_slope'\n",
    "    intercept = f'{col}_intercept'\n",
    "    \n",
    "    abline(dynamic_df[slope].mean(), dynamic_df[intercept].mean(), alpha=1, color='tab:blue', linewidth=3)\n",
    "    plt.scatter(y=dynamic_df[col], x=dynamic_df.draw_month, color='tab:blue', alpha=0.3)\n",
    "    mean_slope = dynamic_df[slope].mean() \n",
    "    plt.legend([f'mean (slope = {Decimal(mean_slope):.2E})'])\n",
    "    \n",
    "    plt.xlim([-0.2, 8.2])\n",
    "    if y_max:\n",
    "        plt.ylim([0, y_max])\n",
    "    elif q_max:\n",
    "        plt.ylim([0, max(dynamic_df[intercept].quantile(q_max), dynamic_df[intercept].quantile(q_max))])\n",
    "    for _, data in dynamic_df.groupby('draw_id'):\n",
    "        abline(data[slope].tolist()[0], data[intercept].tolist()[0], alpha=0.15, color='tab:blue', linewidth=2)\n",
    "    plt.xlabel('months after baseline')\n",
    "    plt.ylabel(col)\n",
    "    \n",
    "    plt.title(f'Individual level changes in {col} over time', size=18)"
   ]
  },
  {
   "cell_type": "code",
   "execution_count": null,
   "id": "91c85978-c824-40a7-804f-275512f69fde",
   "metadata": {},
   "outputs": [],
   "source": [
    "dynamic_df_grp_melt['dummy'] = 0\n",
    "sns.set_theme(rc={'figure.figsize':(15,20)})\n",
    "fig, axes = plt.subplots(1, 1, sharey=True)\n",
    "sns.violinplot(dynamic_df_grp_melt, y='label', x='slope', hue='dummy', inner=\"point\", ax=axes, linewidth=0.8, legend=False)\n",
    "axes.axvline(x = 0, color = 'red', linestyle='dashed')\n",
    "axes.legend([])\n",
    "plt.suptitle('COSMIC Mutational Signature Slope Distributions', y=0.9)"
   ]
  },
  {
   "cell_type": "code",
   "execution_count": null,
   "id": "072deb49-b2c9-497c-9d53-377db9f2d55f",
   "metadata": {},
   "outputs": [],
   "source": [
    "plot_individual_slope_pooled('SBS5_count_adj3')"
   ]
  },
  {
   "cell_type": "code",
   "execution_count": null,
   "id": "d13683a4-bdc7-4992-a991-fd40cbcaa466",
   "metadata": {},
   "outputs": [],
   "source": [
    "plot_individual_slope_pooled('SBS1_count_adj3')"
   ]
  }
 ],
 "metadata": {
  "kernelspec": {
   "display_name": "venv",
   "language": "python",
   "name": "python3"
  },
  "language_info": {
   "codemirror_mode": {
    "name": "ipython",
    "version": 3
   },
   "file_extension": ".py",
   "mimetype": "text/x-python",
   "name": "python",
   "nbconvert_exporter": "python",
   "pygments_lexer": "ipython3",
   "version": "3.10.12"
  }
 },
 "nbformat": 4,
 "nbformat_minor": 5
}
